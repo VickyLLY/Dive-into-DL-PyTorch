{
 "metadata": {
  "language_info": {
   "codemirror_mode": {
    "name": "ipython",
    "version": 3
   },
   "file_extension": ".py",
   "mimetype": "text/x-python",
   "name": "python",
   "nbconvert_exporter": "python",
   "pygments_lexer": "ipython3",
   "version": "3.7.6-final"
  },
  "orig_nbformat": 2,
  "kernelspec": {
   "name": "Python 3.7.6 64-bit ('base': conda)",
   "display_name": "Python 3.7.6 64-bit ('base': conda)",
   "metadata": {
    "interpreter": {
     "hash": "d82f0058ff40139d85380dac7e0ee9c9b51dec5100f94a533e3dc2f2b3fe7401"
    }
   }
  }
 },
 "nbformat": 4,
 "nbformat_minor": 2,
 "cells": [
  {
   "source": [
    "# 数据操作"
   ],
   "cell_type": "markdown",
   "metadata": {}
  },
  {
   "source": [
    "import torch\n",
    "print(torch.__version__)"
   ],
   "cell_type": "code",
   "metadata": {},
   "execution_count": 3,
   "outputs": [
    {
     "output_type": "stream",
     "name": "stdout",
     "text": [
      "1.3.1\n"
     ]
    }
   ]
  },
  {
   "source": [
    "## 1.创建tensor"
   ],
   "cell_type": "markdown",
   "metadata": {}
  },
  {
   "cell_type": "code",
   "execution_count": 4,
   "metadata": {},
   "outputs": [
    {
     "output_type": "stream",
     "name": "stdout",
     "text": [
      "tensor([[0., 0., 0., 0.],\n        [0., 0., 0., 0.],\n        [0., 0., 0., 0.]])\ntensor([[0.3243, 0.0356, 0.7333, 0.7358],\n        [0.3917, 0.5830, 0.9686, 0.7210],\n        [0.3198, 0.0188, 0.8198, 0.9032]])\ntensor([[0, 0, 0, 0],\n        [0, 0, 0, 0],\n        [0, 0, 0, 0]])\ntensor([9.0000, 1.2000])\n"
     ]
    }
   ],
   "source": [
    "# 未初始化的矩阵\n",
    "x1 = torch.empty(3, 4)\n",
    "print(x1)\n",
    "\n",
    "# 随机tensor\n",
    "x2 = torch.rand(3, 4)\n",
    "print(x2)\n",
    "\n",
    "# long全为0的tensor\n",
    "x3 = torch.zeros(3, 4, dtype=torch.long)\n",
    "print(x3)\n",
    "\n",
    "# 自定义数据的tensor\n",
    "x = torch.tensor([9, 1.2])\n",
    "print(x)"
   ]
  },
  {
   "source": [
    "### 用现有的tensor创建"
   ],
   "cell_type": "markdown",
   "metadata": {}
  },
  {
   "cell_type": "code",
   "execution_count": 5,
   "metadata": {},
   "outputs": [
    {
     "output_type": "stream",
     "name": "stdout",
     "text": [
      "tensor([[1., 1., 1., 1.],\n        [1., 1., 1., 1.],\n        [1., 1., 1., 1.]], dtype=torch.float64)\ntensor([[0., 0., 0., 0.],\n        [0., 0., 0., 0.],\n        [0., 0., 0., 0.]], dtype=torch.float64)\ntensor([[-1.0766, -0.7888,  0.5984, -1.3196],\n        [ 0.0095,  1.1953, -1.1500, -1.0287],\n        [ 0.5114,  1.3904, -1.9649, -2.3372]])\n"
     ]
    }
   ],
   "source": [
    "# 返回的tensor默认具有相同的torch.dtype 和torch.device\n",
    "x1 = x1.new_ones(3, 4, dtype=torch.float64)   \n",
    "print(x1)\n",
    "\n",
    "x2 = x2.new_zeros(3, 4, dtype=torch.float64) \n",
    "print(x2)\n",
    "\n",
    "# 创建一个和原来x1一样大小的tensor，指定新的数据类型,\n",
    "x = torch.randn_like(x1, dtype=torch.float)\n",
    "print(x)"
   ]
  },
  {
   "source": [
    "### 获取tensor形状"
   ],
   "cell_type": "markdown",
   "metadata": {}
  },
  {
   "cell_type": "code",
   "execution_count": 6,
   "metadata": {},
   "outputs": [
    {
     "output_type": "stream",
     "name": "stdout",
     "text": [
      "torch.Size([3, 4])\ntorch.Size([3, 4])\n"
     ]
    }
   ],
   "source": [
    "print(x.size())\n",
    "print(x.shape)"
   ]
  },
  {
   "source": [
    "## 2、操作"
   ],
   "cell_type": "markdown",
   "metadata": {}
  },
  {
   "source": [
    "### 算术操作"
   ],
   "cell_type": "markdown",
   "metadata": {}
  },
  {
   "cell_type": "code",
   "execution_count": 7,
   "metadata": {},
   "outputs": [
    {
     "output_type": "stream",
     "name": "stdout",
     "text": [
      "tensor([[-0.3810, -0.6470,  1.3744, -1.1333],\n        [ 0.5150,  1.4616, -0.1797, -0.4077],\n        [ 0.5679,  1.9079, -1.1252, -2.2883]])\ntensor([[-0.3810, -0.6470,  1.3744, -1.1333],\n        [ 0.5150,  1.4616, -0.1797, -0.4077],\n        [ 0.5679,  1.9079, -1.1252, -2.2883]])\ntensor([[-0.3810, -0.6470,  1.3744, -1.1333],\n        [ 0.5150,  1.4616, -0.1797, -0.4077],\n        [ 0.5679,  1.9079, -1.1252, -2.2883]])\ntensor([[-0.3810, -0.6470,  1.3744, -1.1333],\n        [ 0.5150,  1.4616, -0.1797, -0.4077],\n        [ 0.5679,  1.9079, -1.1252, -2.2883]])\n"
     ]
    }
   ],
   "source": [
    "# 加法1\n",
    "y = torch.rand(3, 4)\n",
    "print(x + y)\n",
    "\n",
    "# 加法2\n",
    "print(torch.add(x, y))\n",
    "\n",
    "# 指定输出\n",
    "res = torch.empty(3, 4)\n",
    "torch.add(x , y, out=res)\n",
    "print(res)\n",
    "\n",
    "# 加法3, inplace版本，后面有后缀_\n",
    "y.add_(x)\n",
    "print(y)\n",
    "\n"
   ]
  },
  {
   "source": [
    "### 索引\n",
    "\n",
    "索引出来的结果与原数据共享内存，也即修改一个，另一个会跟着修改。\n",
    "pytorch中还有一些函数，提供索引选择数据，如：index_select(input, dim, index)、masked_select(input, mask)、nonzero(input)、gather(input, dim, index)等"
   ],
   "cell_type": "markdown",
   "metadata": {}
  },
  {
   "cell_type": "code",
   "execution_count": 9,
   "metadata": {},
   "outputs": [
    {
     "output_type": "stream",
     "name": "stdout",
     "text": [
      "tensor([-0.0766,  0.2112,  1.5984, -0.3196])\ntensor([0.9234, 1.2112, 2.5984, 0.6804])\ntensor([0.9234, 1.2112, 2.5984, 0.6804])\n"
     ]
    }
   ],
   "source": [
    "y = x[0, :]\n",
    "print(y)\n",
    "y += 1\n",
    "print(y)\n",
    "print(x[0, :])  # 原来的tensor也被修改了"
   ]
  },
  {
   "source": [
    "### 改变形状"
   ],
   "cell_type": "markdown",
   "metadata": {}
  },
  {
   "cell_type": "code",
   "execution_count": 11,
   "metadata": {},
   "outputs": [
    {
     "output_type": "stream",
     "name": "stdout",
     "text": [
      "torch.Size([3, 4]) torch.Size([12]) torch.Size([3, 4])\n"
     ]
    }
   ],
   "source": [
    "y = x.view(12)  # 3*4=12\n",
    "z = x.view(-1 , 4)  # -1所指的维度可以根据其他维度的值推出来\n",
    "print(x.size(), y.size(), z.size())"
   ]
  },
  {
   "cell_type": "code",
   "execution_count": 12,
   "metadata": {},
   "outputs": [
    {
     "output_type": "stream",
     "name": "stdout",
     "text": [
      "tensor([[ 1.9234,  2.2112,  3.5984,  1.6804],\n        [ 1.0095,  2.1953, -0.1500, -0.0287],\n        [ 1.5114,  2.3904, -0.9649, -1.3372]])\ntensor([ 1.9234,  2.2112,  3.5984,  1.6804,  1.0095,  2.1953, -0.1500, -0.0287,\n         1.5114,  2.3904, -0.9649, -1.3372])\n"
     ]
    }
   ],
   "source": [
    "# view仅仅是改变了对这个张量的观察角度，内部数据并未改变\n",
    "x += 1\n",
    "print(x)\n",
    "print(y) # 也增加1"
   ]
  },
  {
   "cell_type": "code",
   "execution_count": 13,
   "metadata": {},
   "outputs": [
    {
     "output_type": "stream",
     "name": "stdout",
     "text": [
      "tensor([[ 0.9234,  1.2112,  2.5984,  0.6804],\n        [ 0.0095,  1.1953, -1.1500, -1.0287],\n        [ 0.5114,  1.3904, -1.9649, -2.3372]])\ntensor([ 1.9234,  2.2112,  3.5984,  1.6804,  1.0095,  2.1953, -0.1500, -0.0287,\n         1.5114,  2.3904, -0.9649, -1.3372])\n"
     ]
    }
   ],
   "source": [
    "# 想返回一个真正新的副本，reshape()可以改变形状，但是此函数并不能保证返回的是其拷贝，所以不推荐使用。推荐先用clone创造一个副本然后再使用view\n",
    "\n",
    "x_cp = x.clone().view(12)\n",
    "x -= 1\n",
    "print(x)\n",
    "print(x_cp)"
   ]
  },
  {
   "source": [
    "### 数据转换\n",
    "将一个标量Tensor转换成一个Python number"
   ],
   "cell_type": "markdown",
   "metadata": {}
  },
  {
   "cell_type": "code",
   "execution_count": 14,
   "metadata": {},
   "outputs": [
    {
     "output_type": "stream",
     "name": "stdout",
     "text": [
      "tensor([0.8220])\n0.8220337629318237\n"
     ]
    }
   ],
   "source": [
    "x = torch.rand(1)\n",
    "print(x)\n",
    "print(x.item())"
   ]
  },
  {
   "source": [
    "### tensor与numpy相互转换\n",
    "1、tensor 转 numpy\n"
   ],
   "cell_type": "markdown",
   "metadata": {}
  },
  {
   "cell_type": "code",
   "execution_count": 15,
   "metadata": {},
   "outputs": [
    {
     "output_type": "stream",
     "name": "stdout",
     "text": [
      "tensor([1., 1., 1., 1., 1.]) [1. 1. 1. 1. 1.]\ntensor([2., 2., 2., 2., 2.]) [2. 2. 2. 2. 2.]\ntensor([3., 3., 3., 3., 3.]) [3. 3. 3. 3. 3.]\n"
     ]
    }
   ],
   "source": [
    "a = torch.ones(5)\n",
    "b = a.numpy()\n",
    "print(a, b)\n",
    "\n",
    "a += 1\n",
    "print(a, b)\n",
    "b += 1\n",
    "print(a, b)\n"
   ]
  },
  {
   "source": [
    "2、NumPy数组转Tensor: from-numpy"
   ],
   "cell_type": "markdown",
   "metadata": {}
  },
  {
   "cell_type": "code",
   "execution_count": 18,
   "metadata": {},
   "outputs": [
    {
     "output_type": "stream",
     "name": "stdout",
     "text": [
      "[1. 1. 1. 1. 1.] tensor([1., 1., 1., 1., 1.], dtype=torch.float64)\n[2. 2. 2. 2. 2.] tensor([2., 2., 2., 2., 2.], dtype=torch.float64)\n[3. 3. 3. 3. 3.] tensor([3., 3., 3., 3., 3.], dtype=torch.float64)\n"
     ]
    }
   ],
   "source": [
    "import numpy as np\n",
    "a = np.ones(5)\n",
    "b = torch.from_numpy(a)\n",
    "print(a, b)\n",
    "\n",
    "a += 1\n",
    "print(a, b)\n",
    "b += 1\n",
    "print(a, b)\n"
   ]
  },
  {
   "source": [
    "### tensor on GPU"
   ],
   "cell_type": "markdown",
   "metadata": {}
  },
  {
   "cell_type": "code",
   "execution_count": null,
   "metadata": {},
   "outputs": [],
   "source": [
    "if torch.cuda.is_available():\n",
    "    device = torch.device(\"cuda\")\n",
    "    y = torch.ones_like(x, dexice=device)\n",
    "    x = x.to(device)\n",
    "    z = x + y\n",
    "    print(z)\n",
    "    print(z.to(\"cpu\", torch.double))    # to()还可以同时更改数据类型 "
   ]
  }
 ]
}