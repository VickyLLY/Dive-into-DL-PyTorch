{
 "metadata": {
  "language_info": {
   "codemirror_mode": {
    "name": "ipython",
    "version": 3
   },
   "file_extension": ".py",
   "mimetype": "text/x-python",
   "name": "python",
   "nbconvert_exporter": "python",
   "pygments_lexer": "ipython3",
   "version": "3.7.6-final"
  },
  "orig_nbformat": 2,
  "kernelspec": {
   "name": "Python 3.7.6 64-bit ('base': conda)",
   "display_name": "Python 3.7.6 64-bit ('base': conda)",
   "metadata": {
    "interpreter": {
     "hash": "d82f0058ff40139d85380dac7e0ee9c9b51dec5100f94a533e3dc2f2b3fe7401"
    }
   }
  }
 },
 "nbformat": 4,
 "nbformat_minor": 2,
 "cells": [
  {
   "source": [
    "# 3.11模型选择、欠拟合和过拟合 "
   ],
   "cell_type": "markdown",
   "metadata": {}
  },
  {
   "source": [
    "## 训练误差和泛化误差\n",
    "训练误差：模型在训练数据集上表现出的误差\n",
    "\n",
    "泛化误差：模型在任意一个测试数据样本上表现出的误差的期望"
   ],
   "cell_type": "markdown",
   "metadata": {}
  },
  {
   "source": [
    "## 欠拟合和过拟合"
   ],
   "cell_type": "markdown",
   "metadata": {}
  },
  {
   "cell_type": "code",
   "execution_count": null,
   "metadata": {},
   "outputs": [],
   "source": [
    "欠拟合： 模型无法得到较低的训练误差\n",
    "过拟合： 模型的训练误差远小于它在测试数据集上的误差"
   ]
  }
 ]
}